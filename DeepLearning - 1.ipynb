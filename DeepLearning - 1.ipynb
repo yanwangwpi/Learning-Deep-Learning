{
 "cells": [
  {
   "cell_type": "code",
   "execution_count": 6,
   "metadata": {
    "collapsed": true
   },
   "outputs": [],
   "source": [
    "from __future__ import print_function\n",
    "import matplotlib.pyplot as plt\n",
    "import numpy as np\n",
    "import os\n",
    "import sys\n",
    "import tarfile\n",
    "from IPython.display import display, Image\n",
    "from scipy import ndimage\n",
    "from sklearn.linear_model import LogisticRegression\n",
    "from six.moves.urllib.request import urlretrieve\n",
    "from six.moves import cPickle as pickle\n",
    "\n",
    "%matplotlib inline"
   ]
  },
  {
   "cell_type": "code",
   "execution_count": 11,
   "metadata": {},
   "outputs": [
    {
     "name": "stdout",
     "output_type": "stream",
     "text": [
      "Found and verified .\\notMNIST_large.tar.gz\n",
      "Found and verified .\\notMNIST_small.tar.gz\n"
     ]
    }
   ],
   "source": [
    "url = 'https://commondatastorage.googleapis.com/books1000/'\n",
    "last_percent_reported = None\n",
    "data_root = '.'\n",
    "\n",
    "def download_progress_hook(count, blockSize, totalSize):\n",
    "    global last_percent_reported\n",
    "    percent = int(count * blockSize * 100 / totalSize)\n",
    "    \n",
    "    if last_percent_reported != percent:\n",
    "        if percent % 5 ==0:\n",
    "            sys.stdout.write(\"%s%%\" % percent)\n",
    "            sys.stdout.flush()\n",
    "        else:\n",
    "            sys.stdout.write(\".\")\n",
    "            sys.stdout.flush()\n",
    "            \n",
    "        last_percent_reported = percent\n",
    "\n",
    "def maybe_download(filename, expected_bytes, force = False):\n",
    "    dest_filename = os.path.join(data_root, filename)\n",
    "    if force or not os.path.exists(dest_filename):\n",
    "        print ('Attempting to download:', filename)\n",
    "        filename, _ = urlretrieve(url + filename, dest_filename, reporthook=download_progress_hook)\n",
    "        print('\\nDownload complete!')\n",
    "    statinfo = os.stat(dest_filename)\n",
    "    if statinfo.st_size == expected_bytes:\n",
    "        print('Found and verified', dest_filename)\n",
    "    else:\n",
    "        raise Exception('Failed to verify '+ dest_filename + '. can you get to it with a browser?')\n",
    "    return dest_filename\n",
    "\n",
    "train_filename = maybe_download('notMNIST_large.tar.gz',247336696)\n",
    "test_filename = maybe_download('notMNIST_small.tar.gz',8458043)"
   ]
  },
  {
   "cell_type": "code",
   "execution_count": 12,
   "metadata": {},
   "outputs": [
    {
     "name": "stdout",
     "output_type": "stream",
     "text": [
      "notMNIST_large already present -  Skipping extraction of notMNIST_large.tar.gz.\n",
      "['notMNIST_large\\\\A', 'notMNIST_large\\\\B', 'notMNIST_large\\\\C', 'notMNIST_large\\\\D', 'notMNIST_large\\\\E', 'notMNIST_large\\\\F', 'notMNIST_large\\\\G', 'notMNIST_large\\\\H', 'notMNIST_large\\\\I', 'notMNIST_large\\\\J']\n",
      "notMNIST_small already present -  Skipping extraction of notMNIST_small.tar.gz.\n",
      "['notMNIST_small\\\\A', 'notMNIST_small\\\\B', 'notMNIST_small\\\\C', 'notMNIST_small\\\\D', 'notMNIST_small\\\\E', 'notMNIST_small\\\\F', 'notMNIST_small\\\\G', 'notMNIST_small\\\\H', 'notMNIST_small\\\\I', 'notMNIST_small\\\\J']\n"
     ]
    }
   ],
   "source": [
    "num_classes = 10\n",
    "np.random.seed(133)\n",
    "\n",
    "def maybe_extract(filename, force = False):\n",
    "    root = os.path.splitext(os.path.splitext(filename)[0])[0]\n",
    "    if os.path.isdir(root) and not force:\n",
    "        print('%s already present -  Skipping extraction of %s.' % (root, filename))\n",
    "    else:\n",
    "        print('Extracting data for %s. This may take a while. Please wait.' % root)\n",
    "        tar = tarfile.open(filename)\n",
    "        sys.stdout.flush()\n",
    "        tar.extractall(data_root)\n",
    "        tar.close()\n",
    "    data_folders = [\n",
    "        os.path.join(root, d) for d in sorted(os.listdir(root))\n",
    "        if os.path.isdir(os.path.join(root, d))]\n",
    "    if len(data_folders) != num_classes:\n",
    "        raise Exception(\n",
    "        'Expected %d folders, one per class. Found %d instead.' % (\n",
    "            num_classes, len(data_folders)))\n",
    "    print(data_folders)\n",
    "    return data_folders\n",
    "\n",
    "train_folder = maybe_extract('notMNIST_large.tar.gz')\n",
    "test_folder = maybe_extract('notMNIST_small.tar.gz')\n",
    "            "
   ]
  },
  {
   "cell_type": "code",
   "execution_count": 19,
   "metadata": {},
   "outputs": [
    {
     "data": {
      "image/png": "[encoded data removed]",
      "text/plain": [
       "<IPython.core.display.Image object>"
      ]
     },
     "execution_count": 19,
     "metadata": {},
     "output_type": "execute_result"
    }
   ],
   "source": [
    "folder_index= 1\n",
    "image_index = 0\n",
    "\n",
    "image_sample = os.listdir(train_folder[folder_index])[image_index]\n",
    "image_path = os.path.join(train_folder[folder_index], image_sample)\n",
    "Image(image_path)"
   ]
  },
  {
   "cell_type": "code",
   "execution_count": 10,
   "metadata": {
    "collapsed": true
   },
   "outputs": [],
   "source": []
  },
  {
   "cell_type": "code",
   "execution_count": 16,
   "metadata": {},
   "outputs": [
    {
     "name": "stdout",
     "output_type": "stream",
     "text": [
      "Pickling notMNIST_large\\A.pickle \n",
      "notMNIST_large\\A\n",
      "Could not read  notMNIST_large\\A\\RnJlaWdodERpc3BCb29rSXRhbGljLnR0Zg==.png : cannot identify image file 'notMNIST_large\\\\A\\\\RnJlaWdodERpc3BCb29rSXRhbGljLnR0Zg==.png' It's ok. Skipping\n",
      "Could not read  notMNIST_large\\A\\SG90IE11c3RhcmQgQlROIFBvc3Rlci50dGY=.png : cannot identify image file 'notMNIST_large\\\\A\\\\SG90IE11c3RhcmQgQlROIFBvc3Rlci50dGY=.png' It's ok. Skipping\n",
      "Could not read  notMNIST_large\\A\\Um9tYW5hIEJvbGQucGZi.png : cannot identify image file 'notMNIST_large\\\\A\\\\Um9tYW5hIEJvbGQucGZi.png' It's ok. Skipping\n",
      "Full dataset sensor (52909, 28, 28)\n",
      "Mean:  -0.12825\n",
      "Std:  0.443121\n",
      "Pickling notMNIST_large\\B.pickle \n",
      "notMNIST_large\\B\n",
      "Could not read  notMNIST_large\\B\\TmlraXNFRi1TZW1pQm9sZEl0YWxpYy5vdGY=.png : cannot identify image file 'notMNIST_large\\\\B\\\\TmlraXNFRi1TZW1pQm9sZEl0YWxpYy5vdGY=.png' It's ok. Skipping\n",
      "Full dataset sensor (52911, 28, 28)\n",
      "Mean:  -0.00756303\n",
      "Std:  0.454491\n",
      "Pickling notMNIST_large\\C.pickle \n",
      "notMNIST_large\\C\n",
      "Full dataset sensor (52912, 28, 28)\n",
      "Mean:  -0.142258\n",
      "Std:  0.439806\n",
      "Pickling notMNIST_large\\D.pickle \n",
      "notMNIST_large\\D\n",
      "Could not read  notMNIST_large\\D\\VHJhbnNpdCBCb2xkLnR0Zg==.png : cannot identify image file 'notMNIST_large\\\\D\\\\VHJhbnNpdCBCb2xkLnR0Zg==.png' It's ok. Skipping\n",
      "Full dataset sensor (52911, 28, 28)\n",
      "Mean:  -0.0573678\n",
      "Std:  0.455648\n",
      "Pickling notMNIST_large\\E.pickle \n",
      "notMNIST_large\\E\n",
      "Full dataset sensor (52912, 28, 28)\n",
      "Mean:  -0.069899\n",
      "Std:  0.452942\n",
      "Pickling notMNIST_large\\F.pickle \n",
      "notMNIST_large\\F\n",
      "Full dataset sensor (52912, 28, 28)\n",
      "Mean:  -0.125583\n",
      "Std:  0.44709\n",
      "Pickling notMNIST_large\\G.pickle \n",
      "notMNIST_large\\G\n",
      "Full dataset sensor (52912, 28, 28)\n",
      "Mean:  -0.0945814\n",
      "Std:  0.44624\n",
      "Pickling notMNIST_large\\H.pickle \n",
      "notMNIST_large\\H\n",
      "Full dataset sensor (52912, 28, 28)\n",
      "Mean:  -0.0685221\n",
      "Std:  0.454232\n",
      "Pickling notMNIST_large\\I.pickle \n",
      "notMNIST_large\\I\n",
      "Full dataset sensor (52912, 28, 28)\n",
      "Mean:  0.0307862\n",
      "Std:  0.468899\n",
      "Pickling notMNIST_large\\J.pickle \n",
      "notMNIST_large\\J\n",
      "Full dataset sensor (52911, 28, 28)\n",
      "Mean:  -0.153358\n",
      "Std:  0.443656\n",
      "Pickling notMNIST_small\\A.pickle \n",
      "notMNIST_small\\A\n",
      "Could not read  notMNIST_small\\A\\RGVtb2NyYXRpY2FCb2xkT2xkc3R5bGUgQm9sZC50dGY=.png : cannot identify image file 'notMNIST_small\\\\A\\\\RGVtb2NyYXRpY2FCb2xkT2xkc3R5bGUgQm9sZC50dGY=.png' It's ok. Skipping\n",
      "Full dataset sensor (1872, 28, 28)\n",
      "Mean:  -0.132626\n",
      "Std:  0.445128\n",
      "Pickling notMNIST_small\\B.pickle \n",
      "notMNIST_small\\B\n",
      "Full dataset sensor (1873, 28, 28)\n",
      "Mean:  0.00535609\n",
      "Std:  0.457115\n",
      "Pickling notMNIST_small\\C.pickle \n",
      "notMNIST_small\\C\n",
      "Full dataset sensor (1873, 28, 28)\n",
      "Mean:  -0.141521\n",
      "Std:  0.44269\n",
      "Pickling notMNIST_small\\D.pickle \n",
      "notMNIST_small\\D\n",
      "Full dataset sensor (1873, 28, 28)\n",
      "Mean:  -0.0492167\n",
      "Std:  0.459759\n",
      "Pickling notMNIST_small\\E.pickle \n",
      "notMNIST_small\\E\n",
      "Full dataset sensor (1873, 28, 28)\n",
      "Mean:  -0.0599148\n",
      "Std:  0.45735\n",
      "Pickling notMNIST_small\\F.pickle \n",
      "notMNIST_small\\F\n",
      "Could not read  notMNIST_small\\F\\Q3Jvc3NvdmVyIEJvbGRPYmxpcXVlLnR0Zg==.png : cannot identify image file 'notMNIST_small\\\\F\\\\Q3Jvc3NvdmVyIEJvbGRPYmxpcXVlLnR0Zg==.png' It's ok. Skipping\n",
      "Full dataset sensor (1872, 28, 28)\n",
      "Mean:  -0.118185\n",
      "Std:  0.452279\n",
      "Pickling notMNIST_small\\G.pickle \n",
      "notMNIST_small\\G\n",
      "Full dataset sensor (1872, 28, 28)\n",
      "Mean:  -0.0925503\n",
      "Std:  0.449006\n",
      "Pickling notMNIST_small\\H.pickle \n",
      "notMNIST_small\\H\n",
      "Full dataset sensor (1872, 28, 28)\n",
      "Mean:  -0.0586893\n",
      "Std:  0.458759\n",
      "Pickling notMNIST_small\\I.pickle \n",
      "notMNIST_small\\I\n",
      "Full dataset sensor (1872, 28, 28)\n",
      "Mean:  0.0526451\n",
      "Std:  0.471894\n",
      "Pickling notMNIST_small\\J.pickle \n",
      "notMNIST_small\\J\n",
      "Full dataset sensor (1872, 28, 28)\n",
      "Mean:  -0.151689\n",
      "Std:  0.448014\n"
     ]
    }
   ],
   "source": [
    "image_size = 28\n",
    "pixel_depth = 255.0\n",
    "\n",
    "def load_letter(folder, min_num_images):\n",
    "    image_files = os.listdir(folder)\n",
    "    dataset = np.ndarray(shape = (len(image_files), image_size, image_size), dtype = np.float32)\n",
    "    \n",
    "    print(folder)\n",
    "    num_images = 0\n",
    "    for image in image_files:\n",
    "        image_file = os.path.join(folder, image)\n",
    "        try:\n",
    "            image_data = (ndimage.imread(image_file).astype(float) - pixel_depth/2)/pixel_depth\n",
    "            if image_data.shape !=(image_size, image_size):\n",
    "                raise Exception('Unexpected image shape %s' % str(image_data.shape))\n",
    "            dataset[num_images,:,:] = image_data\n",
    "            num_images = num_images+1\n",
    "        except IOError as e:\n",
    "            print('Could not read ', image_file, ':', e, 'It\\'s ok. Skipping')\n",
    "    \n",
    "    dataset = dataset[0:num_images,:,:]\n",
    "    if num_images < min_num_images:\n",
    "        raise Exception('Fewer images than required %d < %d' % (num_images, min_num_images))\n",
    "        \n",
    "    print('Full dataset sensor', dataset.shape)\n",
    "    print('Mean: ', np.mean(dataset))\n",
    "    print('Std: ',np.std(dataset) )\n",
    "    return dataset\n",
    "\n",
    "def maybe_pickle(data_folders, min_num_images_per_class, force = False):\n",
    "    dataset_names = []\n",
    "    for folder in data_folders:\n",
    "        set_filename = folder +'.pickle'\n",
    "        dataset_names.append(set_filename)\n",
    "        if os.path.exists(set_filename) and not force:\n",
    "            print('%s already present - skipping pickling' % set_filename)\n",
    "        else:\n",
    "            print('Pickling %s ' % set_filename)\n",
    "            dataset = load_letter(folder, min_num_images_per_class)\n",
    "            try:\n",
    "                with open(set_filename,'wb') as f:\n",
    "                    pickle.dump(dataset, f, pickle.HIGHEST_PROTOCOL)\n",
    "            except Exception as e:\n",
    "                print('Unable to save data to file ', set_filename, ':', e)\n",
    "    return dataset_names\n",
    "\n",
    "train_datasets = maybe_pickle(train_folder, 45000)\n",
    "test_datasets = maybe_pickle(test_folder, 1800)"
   ]
  },
  {
   "cell_type": "code",
   "execution_count": 24,
   "metadata": {},
   "outputs": [
    {
     "data": {
      "text/plain": [
       "<matplotlib.image.AxesImage at 0x29e813f1a58>"
      ]
     },
     "execution_count": 24,
     "metadata": {},
     "output_type": "execute_result"
    },
    {
     "data": {
      "image/png": "[encoded data removed]",
      "text/plain": [
       "<matplotlib.figure.Figure at 0x29e8017d048>"
      ]
     },
     "metadata": {},
     "output_type": "display_data"
    }
   ],
   "source": [
    "filename = train_folder[folder_index]\n",
    "image = os.listdir(filename)[image_index]\n",
    "image_file  =os.path.join(filename, image)\n",
    "\n",
    "image_data = (ndimage.imread(image_file))\n",
    "plt.imshow(image_data)"
   ]
  },
  {
   "cell_type": "code",
   "execution_count": 26,
   "metadata": {},
   "outputs": [
    {
     "name": "stdout",
     "output_type": "stream",
     "text": [
      "[52912, 52912, 52912, 52912, 52912, 52912, 52912, 52912, 52912, 52911]\n"
     ]
    }
   ],
   "source": [
    "size_class = []\n",
    "for folder in train_folder:\n",
    "    images = os.listdir(folder)\n",
    "    size_class.append(len(images))\n",
    "\n",
    "print(size_class)"
   ]
  },
  {
   "cell_type": "code",
   "execution_count": null,
   "metadata": {
    "collapsed": true
   },
   "outputs": [],
   "source": []
  }
 ],
 "metadata": {
  "kernelspec": {
   "display_name": "Python 3",
   "language": "python",
   "name": "python3"
  }
 },
 "nbformat": 4,
 "nbformat_minor": 2
}
