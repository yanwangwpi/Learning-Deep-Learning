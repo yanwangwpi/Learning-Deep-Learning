{
 "cells": [
  {
   "cell_type": "code",
   "execution_count": 1,
   "metadata": {
    "collapsed": true
   },
   "outputs": [],
   "source": [
    "from __future__ import print_function\n",
    "import matplotlib.pyplot as plt\n",
    "import numpy as np\n",
    "import os\n",
    "import sys\n",
    "import tarfile\n",
    "from IPython.display import display, Image\n",
    "from scipy import ndimage\n",
    "from sklearn.linear_model import LogisticRegression\n",
    "from six.moves.urllib.request import urlretrieve\n",
    "from six.moves import cPickle as pickle\n",
    "\n",
    "%matplotlib inline"
   ]
  },
  {
   "cell_type": "code",
   "execution_count": 2,
   "metadata": {},
   "outputs": [
    {
     "name": "stdout",
     "output_type": "stream",
     "text": [
      "notMNIST_large already present -  Skipping extraction of notMNIST_large.tar.gz.\n",
      "['notMNIST_large\\\\A', 'notMNIST_large\\\\B', 'notMNIST_large\\\\C', 'notMNIST_large\\\\D', 'notMNIST_large\\\\E', 'notMNIST_large\\\\F', 'notMNIST_large\\\\G', 'notMNIST_large\\\\H', 'notMNIST_large\\\\I', 'notMNIST_large\\\\J']\n",
      "notMNIST_small already present -  Skipping extraction of notMNIST_small.tar.gz.\n",
      "['notMNIST_small\\\\A', 'notMNIST_small\\\\B', 'notMNIST_small\\\\C', 'notMNIST_small\\\\D', 'notMNIST_small\\\\E', 'notMNIST_small\\\\F', 'notMNIST_small\\\\G', 'notMNIST_small\\\\H', 'notMNIST_small\\\\I', 'notMNIST_small\\\\J']\n"
     ]
    }
   ],
   "source": [
    "num_classes = 10\n",
    "np.random.seed(133)\n",
    "\n",
    "def maybe_extract(filename, force = False):\n",
    "    root = os.path.splitext(os.path.splitext(filename)[0])[0]\n",
    "    if os.path.isdir(root) and not force:\n",
    "        print('%s already present -  Skipping extraction of %s.' % (root, filename))\n",
    "    else:\n",
    "        print('Extracting data for %s. This may take a while. Please wait.' % root)\n",
    "        tar = tarfile.open(filename)\n",
    "        sys.stdout.flush()\n",
    "        tar.extractall(data_root)\n",
    "        tar.close()\n",
    "    data_folders = [\n",
    "        os.path.join(root, d) for d in sorted(os.listdir(root))\n",
    "        if os.path.isdir(os.path.join(root, d))]\n",
    "    if len(data_folders) != num_classes:\n",
    "        raise Exception(\n",
    "        'Expected %d folders, one per class. Found %d instead.' % (\n",
    "            num_classes, len(data_folders)))\n",
    "    print(data_folders)\n",
    "    return data_folders\n",
    "\n",
    "train_folder = maybe_extract('notMNIST_large.tar.gz')\n",
    "test_folder = maybe_extract('notMNIST_small.tar.gz')\n",
    "            "
   ]
  },
  {
   "cell_type": "code",
   "execution_count": 3,
   "metadata": {},
   "outputs": [
    {
     "name": "stdout",
     "output_type": "stream",
     "text": [
      "Found and verified .\\notMNIST_large.tar.gz\n",
      "Found and verified .\\notMNIST_small.tar.gz\n"
     ]
    }
   ],
   "source": [
    "url = 'https://commondatastorage.googleapis.com/books1000/'\n",
    "last_percent_reported = None\n",
    "data_root = '.'\n",
    "\n",
    "def download_progress_hook(count, blockSize, totalSize):\n",
    "    global last_percent_reported\n",
    "    percent = int(count * blockSize * 100 / totalSize)\n",
    "    \n",
    "    if last_percent_reported != percent:\n",
    "        if percent % 5 ==0:\n",
    "            sys.stdout.write(\"%s%%\" % percent)\n",
    "            sys.stdout.flush()\n",
    "        else:\n",
    "            sys.stdout.write(\".\")\n",
    "            sys.stdout.flush()\n",
    "            \n",
    "        last_percent_reported = percent\n",
    "\n",
    "def maybe_download(filename, expected_bytes, force = False):\n",
    "    dest_filename = os.path.join(data_root, filename)\n",
    "    if force or not os.path.exists(dest_filename):\n",
    "        print ('Attempting to download:', filename)\n",
    "        filename, _ = urlretrieve(url + filename, dest_filename, reporthook=download_progress_hook)\n",
    "        print('\\nDownload complete!')\n",
    "    statinfo = os.stat(dest_filename)\n",
    "    if statinfo.st_size == expected_bytes:\n",
    "        print('Found and verified', dest_filename)\n",
    "    else:\n",
    "        raise Exception('Failed to verify '+ dest_filename + '. can you get to it with a browser?')\n",
    "    return dest_filename\n",
    "\n",
    "train_filename = maybe_download('notMNIST_large.tar.gz',247336696)\n",
    "test_filename = maybe_download('notMNIST_small.tar.gz',8458043)"
   ]
  },
  {
   "cell_type": "code",
   "execution_count": 4,
   "metadata": {},
   "outputs": [
    {
     "data": {
      "image/png": "[encoded data removed]",
      "text/plain": [
       "<IPython.core.display.Image object>"
      ]
     },
     "execution_count": 4,
     "metadata": {},
     "output_type": "execute_result"
    }
   ],
   "source": [
    "folder_index= 1\n",
    "image_index = 0\n",
    "\n",
    "image_sample = os.listdir(train_folder[folder_index])[image_index]\n",
    "image_path = os.path.join(train_folder[folder_index], image_sample)\n",
    "Image(image_path)"
   ]
  },
  {
   "cell_type": "code",
   "execution_count": null,
   "metadata": {
    "collapsed": true
   },
   "outputs": [],
   "source": []
  },
  {
   "cell_type": "code",
   "execution_count": 5,
   "metadata": {},
   "outputs": [
    {
     "name": "stdout",
     "output_type": "stream",
     "text": [
      "notMNIST_large\\A.pickle already present - skipping pickling\n",
      "notMNIST_large\\B.pickle already present - skipping pickling\n",
      "notMNIST_large\\C.pickle already present - skipping pickling\n",
      "notMNIST_large\\D.pickle already present - skipping pickling\n",
      "notMNIST_large\\E.pickle already present - skipping pickling\n",
      "notMNIST_large\\F.pickle already present - skipping pickling\n",
      "notMNIST_large\\G.pickle already present - skipping pickling\n",
      "notMNIST_large\\H.pickle already present - skipping pickling\n",
      "notMNIST_large\\I.pickle already present - skipping pickling\n",
      "notMNIST_large\\J.pickle already present - skipping pickling\n",
      "notMNIST_small\\A.pickle already present - skipping pickling\n",
      "notMNIST_small\\B.pickle already present - skipping pickling\n",
      "notMNIST_small\\C.pickle already present - skipping pickling\n",
      "notMNIST_small\\D.pickle already present - skipping pickling\n",
      "notMNIST_small\\E.pickle already present - skipping pickling\n",
      "notMNIST_small\\F.pickle already present - skipping pickling\n",
      "notMNIST_small\\G.pickle already present - skipping pickling\n",
      "notMNIST_small\\H.pickle already present - skipping pickling\n",
      "notMNIST_small\\I.pickle already present - skipping pickling\n",
      "notMNIST_small\\J.pickle already present - skipping pickling\n"
     ]
    }
   ],
   "source": [
    "image_size = 28\n",
    "pixel_depth = 255.0\n",
    "\n",
    "def load_letter(folder, min_num_images):\n",
    "    image_files = os.listdir(folder)\n",
    "    dataset = np.ndarray(shape = (len(image_files), image_size, image_size), dtype = np.float32)\n",
    "    \n",
    "    print(folder)\n",
    "    num_images = 0\n",
    "    for image in image_files:\n",
    "        image_file = os.path.join(folder, image)\n",
    "        try:\n",
    "            image_data = (ndimage.imread(image_file).astype(float) - pixel_depth/2)/pixel_depth\n",
    "            if image_data.shape !=(image_size, image_size):\n",
    "                raise Exception('Unexpected image shape %s' % str(image_data.shape))\n",
    "            dataset[num_images,:,:] = image_data\n",
    "            num_images = num_images+1\n",
    "        except IOError as e:\n",
    "            print('Could not read ', image_file, ':', e, 'It\\'s ok. Skipping')\n",
    "    \n",
    "    dataset = dataset[0:num_images,:,:]\n",
    "    if num_images < min_num_images:\n",
    "        raise Exception('Fewer images than required %d < %d' % (num_images, min_num_images))\n",
    "        \n",
    "    print('Full dataset sensor', dataset.shape)\n",
    "    print('Mean: ', np.mean(dataset))\n",
    "    print('Std: ',np.std(dataset) )\n",
    "    return dataset\n",
    "\n",
    "def maybe_pickle(data_folders, min_num_images_per_class, force = False):\n",
    "    dataset_names = []\n",
    "    for folder in data_folders:\n",
    "        set_filename = folder +'.pickle'\n",
    "        dataset_names.append(set_filename)\n",
    "        if os.path.exists(set_filename) and not force:\n",
    "            print('%s already present - skipping pickling' % set_filename)\n",
    "        else:\n",
    "            print('Pickling %s ' % set_filename)\n",
    "            dataset = load_letter(folder, min_num_images_per_class)\n",
    "            try:\n",
    "                with open(set_filename,'wb') as f:\n",
    "                    pickle.dump(dataset, f, pickle.HIGHEST_PROTOCOL)\n",
    "            except Exception as e:\n",
    "                print('Unable to save data to file ', set_filename, ':', e)\n",
    "    return dataset_names\n",
    "\n",
    "train_datasets = maybe_pickle(train_folder, 45000)\n",
    "test_datasets = maybe_pickle(test_folder, 1800)"
   ]
  },
  {
   "cell_type": "code",
   "execution_count": 6,
   "metadata": {},
   "outputs": [
    {
     "data": {
      "text/plain": [
       "<matplotlib.image.AxesImage at 0x1d4f2bef278>"
      ]
     },
     "execution_count": 6,
     "metadata": {},
     "output_type": "execute_result"
    },
    {
     "data": {
      "image/png": "[encoded data removed]",
      "text/plain": [
       "<matplotlib.figure.Figure at 0x1d4f2b30908>"
      ]
     },
     "metadata": {},
     "output_type": "display_data"
    }
   ],
   "source": [
    "filename = train_folder[folder_index]\n",
    "image = os.listdir(filename)[image_index]\n",
    "image_file  =os.path.join(filename, image)\n",
    "\n",
    "image_data = (ndimage.imread(image_file))\n",
    "plt.imshow(image_data)"
   ]
  },
  {
   "cell_type": "code",
   "execution_count": 7,
   "metadata": {},
   "outputs": [
    {
     "name": "stdout",
     "output_type": "stream",
     "text": [
      "[52912, 52912, 52912, 52912, 52912, 52912, 52912, 52912, 52912, 52911]\n"
     ]
    }
   ],
   "source": [
    "size_class = []\n",
    "for folder in train_folder:\n",
    "    images = os.listdir(folder)\n",
    "    size_class.append(len(images))\n",
    "\n",
    "print(size_class)"
   ]
  },
  {
   "cell_type": "code",
   "execution_count": 10,
   "metadata": {},
   "outputs": [
    {
     "name": "stdout",
     "output_type": "stream",
     "text": [
      "Training:  (200000, 28, 28) (200000,)\n",
      "Validating:  (10000, 28, 28) (10000,)\n",
      "Testing:  (10000, 28, 28) (10000,)\n"
     ]
    }
   ],
   "source": [
    "def make_arrays(nb_rows, img_size):\n",
    "    if nb_rows:\n",
    "        dataset = np.ndarray((nb_rows, img_size, img_size), dtype = np.float32)\n",
    "        labels = np.ndarray(nb_rows, dtype = np.float32)\n",
    "    else:\n",
    "        dataset, labels = None, None\n",
    "    return dataset, labels\n",
    "\n",
    "def merge_datasets(pickle_files, train_size, valid_size = 0):\n",
    "    num_classes  = len(pickle_files)\n",
    "    valid_dataset, valid_labels = make_arrays(valid_size, image_size)\n",
    "    train_dataset, train_labels = make_arrays(train_size, image_size)\n",
    "    \n",
    "    vsize_per_class = valid_size // num_classes\n",
    "    tsize_per_class = train_size // num_classes\n",
    "    \n",
    "    start_v, start_t = 0,0 \n",
    "    end_v, end_t = vsize_per_class, tsize_per_class\n",
    "    end_l = vsize_per_class + tsize_per_class\n",
    "    \n",
    "    for label, pickle_file in enumerate(pickle_files):\n",
    "        try:\n",
    "            with open(pickle_file,'rb') as f:\n",
    "                letter_set = pickle.load(f)\n",
    "                np.random.shuffle(letter_set)\n",
    "                if valid_dataset is not None:\n",
    "                    valid_letter = letter_set[:vsize_per_class,:,:]\n",
    "                    valid_dataset[start_v:end_v,:,:] = valid_letter\n",
    "                    valid_labels[start_v:end_v] = label\n",
    "                    start_v +=vsize_per_class\n",
    "                    end_v += vsize_per_class\n",
    "            \n",
    "                train_letter = letter_set[vsize_per_class:end_l,:,:]\n",
    "                train_dataset[start_t:end_t,:,:] = train_letter\n",
    "                train_labels[start_t:end_t] = label\n",
    "                start_t +=tsize_per_class\n",
    "                end_t += tsize_per_class\n",
    "        except Exception as e:\n",
    "            print('Unable to process data from ', pickle_file,':', e)\n",
    "            raise\n",
    "    \n",
    "    return valid_dataset, valid_labels, train_dataset, train_labels\n",
    "\n",
    "train_size = 200000\n",
    "valid_size = 10000\n",
    "test_size = 10000\n",
    "\n",
    "valid_dataset, valid_labels, train_dataset, train_labels = merge_datasets(train_datasets, train_size, valid_size)\n",
    "_, _, test_dataset, test_labels = merge_datasets(test_datasets, test_size)\n",
    "\n",
    "print('Training: ', train_dataset.shape, train_labels.shape)\n",
    "print('Validating: ', valid_dataset.shape, valid_labels.shape)\n",
    "print('Testing: ', test_dataset.shape, test_labels.shape)\n",
    "\n"
   ]
  },
  {
   "cell_type": "code",
   "execution_count": 11,
   "metadata": {
    "collapsed": true
   },
   "outputs": [],
   "source": [
    "def randomize(dataset, labels):\n",
    "    permutation = np.random.permutation(labels.shape[0])\n",
    "    shuffled_dataset = dataset[permutation,:,:]\n",
    "    shuffled_labels = labels[permutation]\n",
    "    return shuffled_dataset, shuffled_labels\n",
    "\n",
    "train_dataset_shuffle, train_labels_shuffle = randomize(train_dataset, train_labels)\n",
    "valid_dataset_shuffle, valid_labels_shuffle = randomize(valid_dataset, valid_labels)\n",
    "test_dataset_shuffle, test_labels_shuffle = randomize(test_dataset, test_labels)\n",
    "    \n",
    "    "
   ]
  },
  {
   "cell_type": "code",
   "execution_count": 18,
   "metadata": {},
   "outputs": [
    {
     "name": "stdout",
     "output_type": "stream",
     "text": [
      "Success\n"
     ]
    }
   ],
   "source": [
    "def image_dist(image1, image2):\n",
    "    return np.sum((image1 - image2)**2)\n",
    "\n",
    "image_one = train_dataset_shuffle[0,:,:]\n",
    "label_one = train_labels_shuffle[0]\n",
    "\n",
    "for index in range(0,train_dataset.shape[0]):\n",
    "    if image_dist(image_one, train_dataset[index,:,:])==0:\n",
    "        if label_one == train_labels[index]:\n",
    "            print('Success')\n",
    "        else:\n",
    "            print('Shuffle failed')\n",
    "        \n",
    "    "
   ]
  },
  {
   "cell_type": "code",
   "execution_count": null,
   "metadata": {},
   "outputs": [],
   "source": []
  },
  {
   "cell_type": "code",
   "execution_count": null,
   "metadata": {
    "collapsed": true
   },
   "outputs": [],
   "source": []
  }
 ],
 "metadata": {
  "kernelspec": {
   "display_name": "Python 3",
   "language": "python",
   "name": "python3"
  },
  "language_info": {
   "codemirror_mode": {
    "name": "ipython",
    "version": 3
   },
   "file_extension": ".py",
   "mimetype": "text/x-python",
   "name": "python",
   "nbconvert_exporter": "python",
   "pygments_lexer": "ipython3",
   "version": "3.6.1"
  }
 },
 "nbformat": 4,
 "nbformat_minor": 2
}
